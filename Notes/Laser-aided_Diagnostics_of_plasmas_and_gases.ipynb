{
 "cells": [
  {
   "cell_type": "markdown",
   "metadata": {},
   "source": [
    "# Laser-aided Diagnostics of plasmas and gases"
   ]
  },
  {
   "cell_type": "code",
   "execution_count": 1,
   "metadata": {
    "scrolled": true
   },
   "outputs": [
    {
     "ename": "SyntaxError",
     "evalue": "invalid syntax (<ipython-input-1-0e3026516407>, line 1)",
     "output_type": "error",
     "traceback": [
      "\u001b[0;36m  File \u001b[0;32m\"<ipython-input-1-0e3026516407>\"\u001b[0;36m, line \u001b[0;32m1\u001b[0m\n\u001b[0;31m    Unfamiliar words:\u001b[0m\n\u001b[0m                   ^\u001b[0m\n\u001b[0;31mSyntaxError\u001b[0m\u001b[0;31m:\u001b[0m invalid syntax\n"
     ]
    }
   ],
   "source": [
    "Unfamiliar words:\n",
    "    combustion \n",
    "    intrusive\n",
    "    exploiting the directionality\n",
    "    industrial sector\n",
    "    ozone depletion\n",
    "    radii\n",
    "    aerosols(small liquid or solid particles with radii of the order of 1 micrometer)\n",
    "    water vapour\n",
    "    trace specie\n",
    "    altitude\n",
    "    fans and compressors\n",
    "    somewhat related topic\n",
    "    Electrical energy can be extracted from the plasma kinetic energy\n",
    "    propulsion in space\n",
    "    radical species\n",
    "    etching of this thin films\n",
    "    come into contact \n",
    "    deterioration\n",
    "    elaborate\n",
    "    temporal"
   ]
  },
  {
   "cell_type": "markdown",
   "metadata": {},
   "source": [
    "## Laser-Aided Diagnostics of Gases and Plasmas"
   ]
  },
  {
   "cell_type": "markdown",
   "metadata": {},
   "source": [
    "|  Variable|Meaning  |    Variable      | Meaning  |  \n",
    "|:----:|:-----:|:-----:|:-----:|\n",
    "|  $n_s$|number density  | $\\sigma= e(n_i-n_e)$  | space charge  |\n",
    "| $j=(n_iv_i-n_ev_e)$  |plasma current density   |   |   |\n",
    "|   |   |   |   |"
   ]
  },
  {
   "cell_type": "code",
   "execution_count": 4,
   "metadata": {},
   "outputs": [
    {
     "data": {
      "text/latex": [
       "$$\\frac{2 \\tau_{sp}}{\\pi \\left(4 \\tau_{sp}^{2} \\left(\\omega - \\omega_{0}\\right)^{2} + 1\\right)}$$"
      ],
      "text/plain": [
       "<IPython.core.display.Math object>"
      ]
     },
     "execution_count": 4,
     "metadata": {},
     "output_type": "execute_result"
    }
   ],
   "source": [
    "%matplotlib inline\n",
    "%config InlineBackend.figure_format = 'svg'\n",
    "import matplotlib.pyplot as plt\n",
    "import sympy as sym\n",
    "import numpy as np\n",
    "from IPython.display import Math\n",
    "\n",
    "# The natural line shape is given by a Lorentzian profile\n",
    "tausp, omega, omega0 ,gn ,pi= sym.symbols('tau_sp omega omega_0 g_n pi')\n",
    "\n",
    "Math(sym.latex(tausp))\n",
    "Math(sym.latex(gn))\n",
    "\n",
    "gn = 2*tausp/pi*(1/(1+4*tausp**2*(omega-omega0)**2))\n",
    "gn1 = gn.subs([(tausp,1),(omega0,100),(pi,np.pi)])\n",
    "Math(sym.latex(gn))\n",
    "\n",
    "# f=sym.lambdify(omega, gn1,'numpy')\n",
    "# x= np.arange(50,150)\n",
    "# plt.plot(x,f(x))"
   ]
  },
  {
   "cell_type": "code",
   "execution_count": 7,
   "metadata": {},
   "outputs": [
    {
     "data": {
      "text/latex": [
       "$$3\\mathbf{\\hat{r}_x} + 4\\mathbf{\\hat{r}_y} + 5\\mathbf{\\hat{r}_z}$$"
      ],
      "text/plain": [
       "<IPython.core.display.Math object>"
      ]
     },
     "execution_count": 7,
     "metadata": {},
     "output_type": "execute_result"
    }
   ],
   "source": [
    "import sympy.physics.vector as symvec\n",
    "R = symvec.ReferenceFrame('R')\n",
    "v = 3*R.x+4*R.y+5*R.z\n",
    "Math(sym.latex(v))"
   ]
  },
  {
   "cell_type": "code",
   "execution_count": 9,
   "metadata": {},
   "outputs": [
    {
     "data": {
      "text/latex": [
       "$$R_{x} R_{y} R_{z}\\mathbf{\\hat{r}_x}$$"
      ],
      "text/plain": [
       "<IPython.core.display.Math object>"
      ]
     },
     "execution_count": 9,
     "metadata": {},
     "output_type": "execute_result"
    }
   ],
   "source": [
    "field = R[0]*R[1]*R[2]*R.x\n",
    "Math(sym.latex(field))"
   ]
  },
  {
   "cell_type": "code",
   "execution_count": 12,
   "metadata": {},
   "outputs": [
    {
     "data": {
      "text/latex": [
       "$$R_{x} R_{y}\\mathbf{\\hat{r}_y} -  R_{x} R_{z}\\mathbf{\\hat{r}_z}$$"
      ],
      "text/plain": [
       "<IPython.core.display.Math object>"
      ]
     },
     "execution_count": 12,
     "metadata": {},
     "output_type": "execute_result"
    }
   ],
   "source": [
    "Math(sym.latex(symvec.curl(field, R)))"
   ]
  },
  {
   "cell_type": "code",
   "execution_count": 14,
   "metadata": {},
   "outputs": [
    {
     "data": {
      "text/latex": [
       "$$R_{y} R_{z}$$"
      ],
      "text/plain": [
       "<IPython.core.display.Math object>"
      ]
     },
     "execution_count": 14,
     "metadata": {},
     "output_type": "execute_result"
    }
   ],
   "source": [
    "Math(sym.latex(symvec.divergence(field, R)))"
   ]
  },
  {
   "cell_type": "markdown",
   "metadata": {},
   "source": [
    "$$m_j \\frac{\\text{d}\\bf{v_j}}{\\text{d}t} = q_j \\left(E+\\bf{v_j} \\times B \\right)$$"
   ]
  },
  {
   "cell_type": "code",
   "execution_count": null,
   "metadata": {},
   "outputs": [],
   "source": []
  }
 ],
 "metadata": {
  "kernelspec": {
   "display_name": "Python 3",
   "language": "python",
   "name": "python3"
  },
  "language_info": {
   "codemirror_mode": {
    "name": "ipython",
    "version": 3
   },
   "file_extension": ".py",
   "mimetype": "text/x-python",
   "name": "python",
   "nbconvert_exporter": "python",
   "pygments_lexer": "ipython3",
   "version": "3.5.2"
  }
 },
 "nbformat": 4,
 "nbformat_minor": 2
}
