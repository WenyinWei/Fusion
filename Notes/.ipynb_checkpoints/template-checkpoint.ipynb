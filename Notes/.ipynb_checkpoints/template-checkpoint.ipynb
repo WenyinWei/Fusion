{
 "cells": [
  {
   "cell_type": "markdown",
   "metadata": {},
   "source": [
    "# Factoring vector equations\n",
    "\n",
    "## Magnetic due to 2-wires\n",
    "\n",
    "### General equation\n",
    "\n",
    "\\begin{align} \n",
    "\\vec{\\mathbf{B}} = {\\mu}I_1 \\left( - \\frac{y_1}{s_1^2} \\hat{x} + \\frac{x_1}{s_1^2}  \\hat{y} \\right)\n",
    "                  +{\\mu}I_2 \\left( - \\frac{y_2}{s_2^2} \\hat{x} + \\frac{x_2}{s_2^2}  \\hat{y} \\right)\n",
    "\\end{align}\n",
    "\n",
    "### Same $y$ and $I$"
   ]
  },
  {
   "cell_type": "code",
   "execution_count": 1,
   "metadata": {},
   "outputs": [],
   "source": [
    "import sympy as sym\n",
    "from IPython.display import Math"
   ]
  },
  {
   "cell_type": "code",
   "execution_count": 2,
   "metadata": {},
   "outputs": [],
   "source": [
    "syms = sym.symbols(\"\\mu I1 I2 I xhat x1 x2 x yhat y s1 s2 d\")\n",
    "(m, I1, I2, I, xhat, x1, x2, x, yhat, y, s1, s2, d) = syms"
   ]
  },
  {
   "cell_type": "code",
   "execution_count": 3,
   "metadata": {},
   "outputs": [],
   "source": [
    "B = m * I * (-y/s1**2*xhat + (x-d)/s1**2*yhat) + m * I * (-y/s2**2*xhat + (x+d)/s2**2*yhat)"
   ]
  },
  {
   "cell_type": "markdown",
   "metadata": {},
   "source": [
    "Quick sanity check:"
   ]
  },
  {
   "cell_type": "code",
   "execution_count": 7,
   "metadata": {},
   "outputs": [
    {
     "data": {
      "text/plain": [
       "I*\\mu*(-xhat*y/s1**2 + yhat*(-d + x)/s1**2) + I*\\mu*(-xhat*y/s2**2 + yhat*(d + x)/s2**2)"
      ]
     },
     "execution_count": 7,
     "metadata": {},
     "output_type": "execute_result"
    }
   ],
   "source": []
  },
  {
   "cell_type": "code",
   "execution_count": 5,
   "metadata": {},
   "outputs": [
    {
     "data": {
      "text/latex": [
       "$$I \\mu \\left(- \\frac{\\hat{x} y}{s_{1}^{2}} + \\frac{\\hat{y} \\left(- d + x\\right)}{s_{1}^{2}}\\right) + I \\mu \\left(- \\frac{\\hat{x} y}{s_{2}^{2}} + \\frac{\\hat{y} \\left(d + x\\right)}{s_{2}^{2}}\\right)$$"
      ],
      "text/plain": [
       "<IPython.core.display.Math object>"
      ]
     },
     "execution_count": 5,
     "metadata": {},
     "output_type": "execute_result"
    }
   ],
   "source": [
    "Math(sym.latex(sym.collect(B, (xhat, yhat))))"
   ]
  },
  {
   "cell_type": "code",
   "execution_count": 6,
   "metadata": {},
   "outputs": [
    {
     "data": {
      "text/plain": [
       "-I*\\mu*(xhat*(s1**2*y + s2**2*y) + yhat*(-d*s1**2 + d*s2**2 - s1**2*x - s2**2*x))/(s1**2*s2**2)"
      ]
     },
     "execution_count": 6,
     "metadata": {},
     "output_type": "execute_result"
    }
   ],
   "source": [
    "factor = sym.factor(B, (xhat, yhat, I, m))\n",
    "factor"
   ]
  },
  {
   "cell_type": "code",
   "execution_count": 6,
   "metadata": {},
   "outputs": [
    {
     "data": {
      "text/latex": [
       "$$- \\frac{I \\mu}{s_{1}^{2} s_{2}^{2}} \\left(\\hat{x} \\left(s_{1}^{2} y + s_{2}^{2} y\\right) + \\hat{y} \\left(- d s_{1}^{2} + d s_{2}^{2} - s_{1}^{2} x - s_{2}^{2} x\\right)\\right)$$"
      ],
      "text/plain": [
       "<IPython.core.display.Math at 0x106351a90>"
      ]
     },
     "execution_count": 6,
     "metadata": {},
     "output_type": "execute_result"
    }
   ],
   "source": [
    "Math(sym.latex(factor))"
   ]
  },
  {
   "cell_type": "code",
   "execution_count": 7,
   "metadata": {},
   "outputs": [
    {
     "data": {
      "text/latex": [
       "$$\\frac{\\hat{y}}{s_{1}^{2} s_{2}^{2}} \\left(- d s_{1}^{2} + d s_{2}^{2} - s_{1}^{2} x - s_{2}^{2} x\\right)$$"
      ],
      "text/plain": [
       "<IPython.core.display.Math at 0x1082c5358>"
      ]
     },
     "execution_count": 7,
     "metadata": {},
     "output_type": "execute_result"
    }
   ],
   "source": [
    "yhat2 = yhat*(-d*s1**2 + d*s2**2 - s1**2*x - s2**2*x)/(s1**2*s2**2)\n",
    "Math(sym.latex(sym.factor(yhat2, (yhat,))))"
   ]
  },
  {
   "cell_type": "code",
   "execution_count": 8,
   "metadata": {},
   "outputs": [
    {
     "data": {
      "text/latex": [
       "$$- \\frac{1}{s_{1}^{2} s_{2}^{2}} \\left(s_{1}^{2} \\left(d + x\\right) + s_{2}^{2} \\left(- d + x\\right)\\right)$$"
      ],
      "text/plain": [
       "<IPython.core.display.Math at 0x1082c56a0>"
      ]
     },
     "execution_count": 8,
     "metadata": {},
     "output_type": "execute_result"
    }
   ],
   "source": [
    "yhat3 = (-d*s1**2 + d*s2**2 - s1**2*x - s2**2*x)/(s1**2*s2**2)\n",
    "Math(sym.latex(sym.factor(yhat3, (s1,s2))))"
   ]
  },
  {
   "cell_type": "markdown",
   "metadata": {},
   "source": [
    "From these, we get\n",
    "\n",
    "\\begin{align} \n",
    "\\frac{s_1^2 y + s_2^2 y}{s_1^2 s_2^2} \\hat{x} \n",
    "\\end{align}\n",
    "\n",
    "\\begin{align} \n",
    "- \\frac{\\Big(s_{1}^{2} \\left(x + d\\right) + s_{2}^{2} \\left(x - d\\right)\\Big)}{s_1^2 s_2^2} \\hat{y} \n",
    "\\end{align}\n",
    "\n",
    "and thus our equation for the magnetic field due to two wires with the same currents:\n",
    "\n",
    "\\begin{align} \n",
    "\\vec{\\mathbf{B}} = {\\mu}I \\Bigg( - \\bigg( \\frac{y}{s_1^2} + \\frac{y}{s_2^2} \\bigg) \\hat{x}\n",
    "                 + \\bigg( \\frac{x - d}{s_1^2} + \\frac{x + d}{s_2^2} \\bigg) \\hat{y} \\Bigg)\n",
    "\\end{align}"
   ]
  },
  {
   "cell_type": "markdown",
   "metadata": {},
   "source": [
    "### Different $I$"
   ]
  },
  {
   "cell_type": "code",
   "execution_count": 9,
   "metadata": {},
   "outputs": [],
   "source": [
    "B = m * I1 * (-y/s1**2*xhat + x1/s1**2*yhat) + m * I2 * (-y/s2**2*xhat + x2/s2**2*yhat)"
   ]
  },
  {
   "cell_type": "markdown",
   "metadata": {},
   "source": [
    "Sanity check:"
   ]
  },
  {
   "cell_type": "code",
   "execution_count": 10,
   "metadata": {},
   "outputs": [
    {
     "data": {
      "text/latex": [
       "$$I_{1} \\mu \\left(\\frac{x_{1} \\hat{y}}{s_{1}^{2}} - \\frac{\\hat{x} y}{s_{1}^{2}}\\right) + I_{2} \\mu \\left(\\frac{x_{2} \\hat{y}}{s_{2}^{2}} - \\frac{\\hat{x} y}{s_{2}^{2}}\\right)$$"
      ],
      "text/plain": [
       "<IPython.core.display.Math at 0x106351b38>"
      ]
     },
     "execution_count": 10,
     "metadata": {},
     "output_type": "execute_result"
    }
   ],
   "source": [
    "Math(sym.latex(sym.collect(B, (xhat, yhat))))"
   ]
  },
  {
   "cell_type": "code",
   "execution_count": 11,
   "metadata": {},
   "outputs": [
    {
     "data": {
      "text/plain": [
       "-\\mu*(xhat*(I1*s2**2*y + I2*s1**2*y) + yhat*(-I1*s2**2*x1 - I2*s1**2*x2))/(s1**2*s2**2)"
      ]
     },
     "execution_count": 11,
     "metadata": {},
     "output_type": "execute_result"
    }
   ],
   "source": [
    "factor = sym.factor(B, (xhat, yhat))\n",
    "factor"
   ]
  },
  {
   "cell_type": "code",
   "execution_count": 12,
   "metadata": {},
   "outputs": [
    {
     "data": {
      "text/plain": [
       "'- \\\\frac{\\\\mu}{s_{1}^{2} s_{2}^{2}} \\\\left(\\\\hat{x} \\\\left(I_{1} s_{2}^{2} y + I_{2} s_{1}^{2} y\\\\right) + \\\\hat{y} \\\\left(- I_{1} s_{2}^{2} x_{1} - I_{2} s_{1}^{2} x_{2}\\\\right)\\\\right)'"
      ]
     },
     "execution_count": 12,
     "metadata": {},
     "output_type": "execute_result"
    }
   ],
   "source": [
    "sym.latex(factor)"
   ]
  },
  {
   "cell_type": "code",
   "execution_count": 13,
   "metadata": {},
   "outputs": [
    {
     "data": {
      "text/latex": [
       "$$- \\frac{\\mu}{s_{1}^{2} s_{2}^{2}} \\left(\\hat{x} \\left(I_{1} s_{2}^{2} y + I_{2} s_{1}^{2} y\\right) + \\hat{y} \\left(- I_{1} s_{2}^{2} x_{1} - I_{2} s_{1}^{2} x_{2}\\right)\\right)$$"
      ],
      "text/plain": [
       "<IPython.core.display.Math at 0x1082b8a20>"
      ]
     },
     "execution_count": 13,
     "metadata": {},
     "output_type": "execute_result"
    }
   ],
   "source": [
    "Math(sym.latex(factor))"
   ]
  },
  {
   "cell_type": "code",
   "execution_count": 14,
   "metadata": {},
   "outputs": [
    {
     "data": {
      "text/plain": [
       "-y*(I1*s2**2 + I2*s1**2)/(s1**2*s2**2)"
      ]
     },
     "execution_count": 14,
     "metadata": {},
     "output_type": "execute_result"
    }
   ],
   "source": [
    "xhat2 = -(I1*s2**2*y + I2*s1**2*y)/(s1**2*s2**2)\n",
    "factor = sym.factor(xhat2, (s1, s2))\n",
    "factor"
   ]
  },
  {
   "cell_type": "code",
   "execution_count": 15,
   "metadata": {},
   "outputs": [
    {
     "data": {
      "text/plain": [
       "'- \\\\frac{y}{s_{1}^{2} s_{2}^{2}} \\\\left(I_{1} s_{2}^{2} + I_{2} s_{1}^{2}\\\\right)'"
      ]
     },
     "execution_count": 15,
     "metadata": {},
     "output_type": "execute_result"
    }
   ],
   "source": [
    "sym.latex(factor)"
   ]
  },
  {
   "cell_type": "code",
   "execution_count": 16,
   "metadata": {},
   "outputs": [
    {
     "data": {
      "text/latex": [
       "$$- \\frac{y}{s_{1}^{2} s_{2}^{2}} \\left(I_{1} s_{2}^{2} + I_{2} s_{1}^{2}\\right)$$"
      ],
      "text/plain": [
       "<IPython.core.display.Math at 0x106351cc0>"
      ]
     },
     "execution_count": 16,
     "metadata": {},
     "output_type": "execute_result"
    }
   ],
   "source": [
    "Math(sym.latex(factor))"
   ]
  },
  {
   "cell_type": "code",
   "execution_count": 17,
   "metadata": {},
   "outputs": [
    {
     "data": {
      "text/plain": [
       "(I1*s2**2*x1 + I2*s1**2*x2)/(s1**2*s2**2)"
      ]
     },
     "execution_count": 17,
     "metadata": {},
     "output_type": "execute_result"
    }
   ],
   "source": [
    "yhat2 = (I1*s2**2*x1 + I2*s1**2*x2)/(s1**2*s2**2)\n",
    "factor = sym.factor(yhat2, (s1, s2))\n",
    "factor"
   ]
  },
  {
   "cell_type": "code",
   "execution_count": 18,
   "metadata": {},
   "outputs": [
    {
     "data": {
      "text/plain": [
       "'\\\\frac{1}{s_{1}^{2} s_{2}^{2}} \\\\left(I_{1} s_{2}^{2} x_{1} + I_{2} s_{1}^{2} x_{2}\\\\right)'"
      ]
     },
     "execution_count": 18,
     "metadata": {},
     "output_type": "execute_result"
    }
   ],
   "source": [
    "sym.latex(factor)"
   ]
  },
  {
   "cell_type": "code",
   "execution_count": 19,
   "metadata": {},
   "outputs": [
    {
     "data": {
      "text/latex": [
       "$$\\frac{1}{s_{1}^{2} s_{2}^{2}} \\left(I_{1} s_{2}^{2} x_{1} + I_{2} s_{1}^{2} x_{2}\\right)$$"
      ],
      "text/plain": [
       "<IPython.core.display.Math at 0x10824e4a8>"
      ]
     },
     "execution_count": 19,
     "metadata": {},
     "output_type": "execute_result"
    }
   ],
   "source": [
    "Math(sym.latex(factor))"
   ]
  },
  {
   "cell_type": "markdown",
   "metadata": {},
   "source": [
    "From this, we get these:\n",
    "\n",
    "\\begin{align}\n",
    "- \\frac{I_1 s_2^2 + I_2 s_1^2}{s_1^2 s_2^2} y \\hat{x} \n",
    "\\end{align}\n",
    "\n",
    "\\begin{align} \n",
    "\\frac{I_1 s_2^2 x_1 + I_2 s_1^2 x_2}{s_1^2 s_2^2} \\hat{y} \n",
    "\\end{align}\n",
    "\n",
    "and thus our equation for the magnetic field due to two wires with different currents:\n",
    "\n",
    "\\begin{align} \n",
    "\\vec{\\mathbf{B}} = {\\mu} \\Bigg( - \\bigg( \\frac{I_1 s_2^2 + I_2 s_1^2}{s_1^2 s_2^2} y \\bigg) \\hat{x}\n",
    "                                + \\bigg( \\frac{I_1 s_2^2 x_1 + I_2 s_1^2 x_2}{s_1^2 s_2^2} \\bigg) \\hat{y} \\Bigg)\n",
    "\\end{align}\n",
    "\n",
    "\\begin{align} \n",
    "= \\frac{\\mu}{s_1^2 s_2^2} \\Big( - y \\big( I_1 s_2^2 + I_2 s_1^2 \\big) \\hat{x}\n",
    "                                + \\big( I_1 s_2^2 (x - d) + I_2 s_1^2 (x + d) \\big) \\hat{y} \\Big)\n",
    "\\end{align}"
   ]
  },
  {
   "cell_type": "markdown",
   "metadata": {},
   "source": [
    "Unfamiliar words:\n",
    "    The mode locking was achieved by modulating the index of refraction acoustically \n",
    "    in the cavity\n",
    "    saturable absorber\n",
    "    neodymium glass laser pulse\n",
    "    chirped pulse amplification\n",
    "    recompress\n",
    "    inconceivable\n",
    "    postulated that an atom ...\n",
    "    degeneracy\n",
    "    incoherent\n",
    "    lattice\n",
    "    a stroll through\n",
    "    precluding\n",
    "    comprehend\n",
    "    cavity\n",
    "    an aperture is added in order"
   ]
  },
  {
   "cell_type": "markdown",
   "metadata": {},
   "source": [
    "# The Interaction of High-Power Lasers with Plasmas\n",
    "---\n",
    "This book is more about inertia control fusion than magnetic control fusion"
   ]
  },
  {
   "cell_type": "markdown",
   "metadata": {},
   "source": [
    "## High Power Lasers, from Nanoseconds to Femtoseconds"
   ]
  },
  {
   "cell_type": "code",
   "execution_count": 18,
   "metadata": {},
   "outputs": [],
   "source": [
    "%matplotlib inline\n",
    "%config InlineBackend.figure_format = 'svg'\n",
    "import matplotlib.pyplot as plt\n",
    "import sympy as sym\n",
    "import numpy as np\n",
    "from IPython.display import Math"
   ]
  },
  {
   "cell_type": "code",
   "execution_count": 106,
   "metadata": {},
   "outputs": [
    {
     "data": {
      "text/latex": [
       "$$g_{n}$$"
      ],
      "text/plain": [
       "<IPython.core.display.Math object>"
      ]
     },
     "execution_count": 106,
     "metadata": {},
     "output_type": "execute_result"
    }
   ],
   "source": [
    "# The natural line shape is given by a Lorentzian profile\n",
    "tausp, omega, omega0 ,gn= sym.symbols('tau_sp omega omega_0 g_n')\n",
    "\n",
    "Math(sym.latex(tausp))\n",
    "Math(sym.latex(gn))"
   ]
  },
  {
   "cell_type": "code",
   "execution_count": 105,
   "metadata": {},
   "outputs": [
    {
     "data": {
      "text/latex": [
       "$$\\frac{2 \\tau_{sp}}{\\pi \\left(4 \\tau_{sp}^{2} \\left(\\omega - \\omega_{0}\\right)^{2} + 1\\right)}$$"
      ],
      "text/plain": [
       "<IPython.core.display.Math object>"
      ]
     },
     "execution_count": 105,
     "metadata": {},
     "output_type": "execute_result"
    }
   ],
   "source": [
    "gn = 2*tausp/pi*(1/(1+4*tausp**2*(omega-omega0)**2))\n",
    "gn1 = gn.subs([(tausp,1),(omega0,100),(pi,np.pi)])\n",
    "Math(sym.latex(gn))\n",
    "\n",
    "# f=sym.lambdify(omega, gn1,'numpy')\n",
    "# x= np.arange(50,150)\n",
    "# plt.plot(x,f(x))"
   ]
  },
  {
   "cell_type": "code",
   "execution_count": 95,
   "metadata": {
    "scrolled": true
   },
   "outputs": [
    {
     "data": {
      "text/latex": [
       "$$Delta-C$$"
      ],
      "text/plain": [
       "<IPython.core.display.Math object>"
      ]
     },
     "execution_count": 95,
     "metadata": {},
     "output_type": "execute_result"
    }
   ],
   "source": [
    "Delta = sym.symbols('Delta-C')\n",
    "Math(sym.latex(Delta))"
   ]
  },
  {
   "cell_type": "code",
   "execution_count": null,
   "metadata": {
    "scrolled": true
   },
   "outputs": [],
   "source": []
  },
  {
   "cell_type": "markdown",
   "metadata": {},
   "source": [
    "The components of the laser system are:\n",
    "\n",
    "1. The __oscillator__ creates the laser pulse with output energy of about $10^{-3} - 10^{-1}$ J. The output energy of the oscillator is kept small in order to control the laser pulses.\n",
    "- The __telescope__ system magnifies the laser beam radius emerging from the oscillator and projects it into the amplifiers.\n",
    "- The __amplifiers__ amplify the oscillator pulse to energies in the domain of $10–10^5$ J. Thus the amplifier gains are in the range of $10^4 –10^8$ . In order to obtain maximum energy one requires about 10 amplifiers in a series. The diameter of the amplifiers increases from about 1 cm to about 50 cm, in order to avoid glass damage, while increasing the energy in the beam. Using state of the art technology and design, megajoule lasers are now under construction in the USA and France.\n",
    "- The __isolating elements__ prevent target reflections returning and damaging the oscillator. These isolators also prevent the amplifiers from self-oscillating off the target (i.e. precluding an undesired resonance between the target and one of the optical surfaces). With a gain of $10^4 –10^8$ even the smallest reflection from the target through the amplifiers can totally damage the oscillator and many other small optical components at the beginning of the laser line. To avoid destruction, isolation is a necessity. The mirror and focusing lens system directs the laser light along the line into the target.\n",
    "- The __target__.\n",
    "- Last but not least, the __diagnostics__ that analyse the laser beam and measure the parameters of the laser–target interaction."
   ]
  },
  {
   "cell_type": "markdown",
   "metadata": {},
   "source": [
    "## Introfuction to Plasma Physics for Electrons and Ions"
   ]
  },
  {
   "cell_type": "code",
   "execution_count": 20,
   "metadata": {},
   "outputs": [
    {
     "ename": "ValueError",
     "evalue": "too many values to unpack (expected 6)",
     "output_type": "error",
     "traceback": [
      "\u001b[0;31m---------------------------------------------------------------------------\u001b[0m",
      "\u001b[0;31mValueError\u001b[0m                                Traceback (most recent call last)",
      "\u001b[0;32m<ipython-input-20-c5e5f3bc62d6>\u001b[0m in \u001b[0;36m<module>\u001b[0;34m()\u001b[0m\n\u001b[1;32m      1\u001b[0m \u001b[0;32mimport\u001b[0m \u001b[0msympy\u001b[0m \u001b[0;32mas\u001b[0m \u001b[0msym\u001b[0m\u001b[0;34m\u001b[0m\u001b[0m\n\u001b[0;32m----> 2\u001b[0;31m \u001b[0mm\u001b[0m\u001b[0;34m,\u001b[0m \u001b[0mv\u001b[0m\u001b[0;34m,\u001b[0m \u001b[0mt\u001b[0m\u001b[0;34m,\u001b[0m \u001b[0mq\u001b[0m\u001b[0;34m,\u001b[0m \u001b[0mE\u001b[0m\u001b[0;34m,\u001b[0m \u001b[0mB\u001b[0m \u001b[0;34m=\u001b[0m \u001b[0msym\u001b[0m\u001b[0;34m.\u001b[0m\u001b[0msymbols\u001b[0m\u001b[0;34m(\u001b[0m\u001b[0;34m'm_j vbm_j t q_j E v_j B'\u001b[0m\u001b[0;34m)\u001b[0m\u001b[0;34m\u001b[0m\u001b[0m\n\u001b[0m\u001b[1;32m      3\u001b[0m \u001b[0mx\u001b[0m \u001b[0;34m=\u001b[0m \u001b[0msym\u001b[0m\u001b[0;34m.\u001b[0m\u001b[0msymbols\u001b[0m\u001b[0;34m(\u001b[0m\u001b[0;34m'x'\u001b[0m\u001b[0;34m)\u001b[0m\u001b[0;34m\u001b[0m\u001b[0m\n\u001b[1;32m      4\u001b[0m \u001b[0mEq\u001b[0m\u001b[0;34m(\u001b[0m\u001b[0mm\u001b[0m\u001b[0;34m*\u001b[0m\u001b[0mv\u001b[0m\u001b[0;34m.\u001b[0m\u001b[0mdiff\u001b[0m\u001b[0;34m(\u001b[0m\u001b[0mt\u001b[0m\u001b[0;34m)\u001b[0m\u001b[0;34m,\u001b[0m\u001b[0mq\u001b[0m\u001b[0;34m*\u001b[0m\u001b[0;34m(\u001b[0m\u001b[0mE\u001b[0m\u001b[0;34m+\u001b[0m\u001b[0mv\u001b[0m\u001b[0;34m.\u001b[0m\u001b[0mcross\u001b[0m\u001b[0;34m(\u001b[0m\u001b[0mB\u001b[0m\u001b[0;34m)\u001b[0m\u001b[0;34m)\u001b[0m\u001b[0;34m)\u001b[0m\u001b[0;34m\u001b[0m\u001b[0m\n",
      "\u001b[0;31mValueError\u001b[0m: too many values to unpack (expected 6)"
     ]
    }
   ],
   "source": [
    "import sympy as sym\n",
    "m, v, t, q, E, B = sym.symbols('m_j vbm_j t q_j E v_j B')\n",
    "x = sym.symbols('x')\n",
    "Eq(m*v.diff(t),q*(E+v.cross(B)))"
   ]
  },
  {
   "cell_type": "code",
   "execution_count": 19,
   "metadata": {},
   "outputs": [
    {
     "data": {
      "text/latex": [
       "$$\\int x\\, dx = \\frac{x^{2}}{2}$$"
      ],
      "text/plain": [
       "<IPython.core.display.Math object>"
      ]
     },
     "execution_count": 19,
     "metadata": {},
     "output_type": "execute_result"
    }
   ],
   "source": [
    "x =sym.symbols('x')\n",
    "Math(sym.latex(sym.Eq(sym.Integral(x,x), x**2/2)))"
   ]
  },
  {
   "cell_type": "code",
   "execution_count": null,
   "metadata": {},
   "outputs": [],
   "source": []
  }
 ],
 "metadata": {
  "kernelspec": {
   "display_name": "Python 3",
   "language": "python",
   "name": "python3"
  },
  "language_info": {
   "codemirror_mode": {
    "name": "ipython",
    "version": 3
   },
   "file_extension": ".py",
   "mimetype": "text/x-python",
   "name": "python",
   "nbconvert_exporter": "python",
   "pygments_lexer": "ipython3",
   "version": "3.5.2"
  }
 },
 "nbformat": 4,
 "nbformat_minor": 1
}
